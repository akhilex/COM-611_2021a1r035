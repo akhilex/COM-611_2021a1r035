{
 "cells": [
  {
   "cell_type": "code",
   "execution_count": 6,
   "id": "641c37ca",
   "metadata": {},
   "outputs": [
    {
     "name": "stdout",
     "output_type": "stream",
     "text": [
      "\n",
      " The Given Training Data Set\n",
      "\n",
      "['Sunny', 'Warm', 'Normal', 'Strong', 'Warm', 'Same', 'Yes']\n",
      "['Sunny', 'Warm', 'High', 'Strong', 'Warm', 'Same', 'Yes']\n",
      "['Rainy', 'Cold', 'High', 'Strong', 'Warm', 'Change', 'No']\n",
      "['Sunny', 'Warm', 'High', 'Strong', 'Cool', 'Change', 'Yes']\n",
      "\n",
      " The initial value of hypothesis: \n",
      "['0', '0', '0', '0', '0', '0']\n",
      "\n",
      " find S: Finding a maximally Specific Hypothesis\n",
      "\n",
      "For Training instance No:0 the hypothesis is ['Sunny', 'Warm', 'Normal', 'Strong', 'Warm', 'Same']\n",
      "For Training instance No:1 the hypothesis is ['Sunny', 'Warm', '?', 'Strong', 'Warm', 'Same']\n",
      "For Training instance No:2 the hypothesis is ['Sunny', 'Warm', '?', 'Strong', 'Warm', 'Same']\n",
      "For Training instance No:3 the hypothesis is ['Sunny', 'Warm', '?', 'Strong', '?', '?']\n",
      "\n",
      " The Maximally Specific Hypothesis is: \n",
      "\n",
      "['Sunny', 'Warm', '?', 'Strong', '?', '?']\n"
     ]
    }
   ],
   "source": [
    "import csv\n",
    "num_attributes=6\n",
    "a=[]\n",
    "print(\"\\n The Given Training Data Set\\n\")\n",
    "with open(r'C:\\Users\\student\\Desktop\\try.csv') as csvfile:\n",
    "    reader=csv.reader(csvfile)\n",
    "    for row in reader:\n",
    "        a.append(row)\n",
    "        print(row)\n",
    "print(\"\\n The initial value of hypothesis: \")\n",
    "hypothesis=['0']*num_attributes\n",
    "print(hypothesis)\n",
    "\n",
    "for j in range(0,num_attributes):\n",
    "    hypothesis[j]=a[0][j];\n",
    "print(\"\\n find S: Finding a maximally Specific Hypothesis\\n\")\n",
    "\n",
    "for i in range(0,len(a)):\n",
    "    if a[i][num_attributes]=='Yes':\n",
    "        for j in range(0,num_attributes):\n",
    "            if a[i][j] != hypothesis[j]:\n",
    "                hypothesis[j]='?'\n",
    "            else:\n",
    "                hypothesis[j]=a[i][j]\n",
    "    print(\"For Training instance No:{0} the hypothesis is\".format(i),hypothesis)\n",
    "print(\"\\n The Maximally Specific Hypothesis is: \\n\")\n",
    "print(hypothesis)        "
   ]
  },
  {
   "cell_type": "code",
   "execution_count": null,
   "id": "5e8f0a2a",
   "metadata": {},
   "outputs": [],
   "source": []
  },
  {
   "cell_type": "code",
   "execution_count": null,
   "id": "f2e2a79d",
   "metadata": {},
   "outputs": [],
   "source": []
  }
 ],
 "metadata": {
  "kernelspec": {
   "display_name": "Python 3 (ipykernel)",
   "language": "python",
   "name": "python3"
  },
  "language_info": {
   "codemirror_mode": {
    "name": "ipython",
    "version": 3
   },
   "file_extension": ".py",
   "mimetype": "text/x-python",
   "name": "python",
   "nbconvert_exporter": "python",
   "pygments_lexer": "ipython3",
   "version": "3.9.12"
  }
 },
 "nbformat": 4,
 "nbformat_minor": 5
}
